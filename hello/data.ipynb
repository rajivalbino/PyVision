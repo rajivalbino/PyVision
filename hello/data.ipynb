{
 "metadata": {
  "language_info": {
   "codemirror_mode": {
    "name": "ipython",
    "version": 3
   },
   "file_extension": ".py",
   "mimetype": "text/x-python",
   "name": "python",
   "nbconvert_exporter": "python",
   "pygments_lexer": "ipython3",
   "version": "3.8.5-final"
  },
  "orig_nbformat": 2,
  "kernelspec": {
   "name": "python_defaultSpec_1597971333836",
   "display_name": "Python 3.8.5 32-bit"
  }
 },
 "nbformat": 4,
 "nbformat_minor": 2,
 "cells": [
  {
   "cell_type": "code",
   "execution_count": 1,
   "metadata": {
    "tags": []
   },
   "outputs": [
    {
     "output_type": "stream",
     "name": "stdout",
     "text": "{'temp': 1}\n{'__module__': '__main__', 'a': 1, 'temp_function': <function TempClass.temp_function at 0x05630220>, '__dict__': <attribute '__dict__' of 'TempClass' objects>, '__weakref__': <attribute '__weakref__' of 'TempClass' objects>, '__doc__': None}\n"
    }
   ],
   "source": [
    "# Functions and classes are objects\n",
    "def func():\n",
    "    pass\n",
    "\n",
    "func.temp = 1\n",
    "\n",
    "print(func.__dict__)\n",
    "\n",
    "class TempClass:\n",
    "    a = 1\n",
    "    def temp_function(self):\n",
    "        pass\n",
    "\n",
    "print(TempClass.__dict__)"
   ]
  },
  {
   "cell_type": "code",
   "execution_count": 2,
   "metadata": {
    "tags": []
   },
   "outputs": [
    {
     "output_type": "stream",
     "name": "stdout",
     "text": "[1, 2, 3]\n87703496\n1587652528 1587652544 1587652560\nTrue\n"
    }
   ],
   "source": [
    "l = [1,2,3]\n",
    "print(l)\n",
    "print(id(l))\n",
    "print(id(l[0]), id(l[1]), id(l[2]))\n",
    "print(type(l) is type([1,2,3]))"
   ]
  },
  {
   "cell_type": "code",
   "execution_count": 3,
   "metadata": {
    "tags": []
   },
   "outputs": [
    {
     "output_type": "stream",
     "name": "stdout",
     "text": "[1, 2, 3]\n(10, 20, 30)\n"
    }
   ],
   "source": [
    "list_values = [1, 2, 3]\n",
    "set_values = (10, 20, 30)\n",
    "print(list_values)\n",
    "print(set_values)\n",
    "list_values[0] = 100\n",
    "# set_values[0] = 100 TypeError"
   ]
  },
  {
   "cell_type": "code",
   "execution_count": null,
   "metadata": {},
   "outputs": [],
   "source": []
  }
 ]
}