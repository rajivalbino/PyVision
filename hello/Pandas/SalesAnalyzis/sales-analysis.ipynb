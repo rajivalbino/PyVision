{
 "metadata": {
  "language_info": {
   "codemirror_mode": {
    "name": "ipython",
    "version": 3
   },
   "file_extension": ".py",
   "mimetype": "text/x-python",
   "name": "python",
   "nbconvert_exporter": "python",
   "pygments_lexer": "ipython3",
   "version": "3.8.5-final"
  },
  "orig_nbformat": 2,
  "kernelspec": {
   "name": "python_defaultSpec_1601216129389",
   "display_name": "Python 3.8.5 32-bit",
   "metadata": {
    "interpreter": {
     "hash": "6d58817d7a36abfa3a827e4c983e24a2b2aeec7ad475bf8b9406aeab7b3302d2"
    }
   }
  }
 },
 "nbformat": 4,
 "nbformat_minor": 2,
 "cells": [
  {
   "cell_type": "code",
   "execution_count": 3,
   "metadata": {},
   "outputs": [],
   "source": [
    "import pandas as pd\n",
    "import numpy as np"
   ]
  },
  {
   "cell_type": "markdown",
   "metadata": {},
   "source": [
    "### Task 1: Merge 12 months of sales into a single file"
   ]
  },
  {
   "cell_type": "code",
   "execution_count": 11,
   "metadata": {},
   "outputs": [
    {
     "output_type": "execute_result",
     "data": {
      "text/plain": "          Order ID                   Product Quantity Ordered Price Each  \\\nJanuary 0   141234                    iPhone                1        700   \n        1   141235  Lightning Charging Cable                1      14.95   \n        2   141236          Wired Headphones                2      11.99   \n        3   141237          27in FHD Monitor                1     149.99   \n        4   141238          Wired Headphones                1      11.99   \n\n               Order Date                       Purchase Address  \nJanuary 0  01/22/19 21:25        944 Walnut St, Boston, MA 02215  \n        1  01/28/19 14:15       185 Maple St, Portland, OR 97035  \n        2  01/17/19 13:33  538 Adams St, San Francisco, CA 94016  \n        3  01/05/19 20:33     738 10th St, Los Angeles, CA 90001  \n        4  01/25/19 11:59          387 10th St, Austin, TX 73301  ",
      "text/html": "<div>\n<style scoped>\n    .dataframe tbody tr th:only-of-type {\n        vertical-align: middle;\n    }\n\n    .dataframe tbody tr th {\n        vertical-align: top;\n    }\n\n    .dataframe thead th {\n        text-align: right;\n    }\n</style>\n<table border=\"1\" class=\"dataframe\">\n  <thead>\n    <tr style=\"text-align: right;\">\n      <th></th>\n      <th></th>\n      <th>Order ID</th>\n      <th>Product</th>\n      <th>Quantity Ordered</th>\n      <th>Price Each</th>\n      <th>Order Date</th>\n      <th>Purchase Address</th>\n    </tr>\n  </thead>\n  <tbody>\n    <tr>\n      <th rowspan=\"5\" valign=\"top\">January</th>\n      <th>0</th>\n      <td>141234</td>\n      <td>iPhone</td>\n      <td>1</td>\n      <td>700</td>\n      <td>01/22/19 21:25</td>\n      <td>944 Walnut St, Boston, MA 02215</td>\n    </tr>\n    <tr>\n      <th>1</th>\n      <td>141235</td>\n      <td>Lightning Charging Cable</td>\n      <td>1</td>\n      <td>14.95</td>\n      <td>01/28/19 14:15</td>\n      <td>185 Maple St, Portland, OR 97035</td>\n    </tr>\n    <tr>\n      <th>2</th>\n      <td>141236</td>\n      <td>Wired Headphones</td>\n      <td>2</td>\n      <td>11.99</td>\n      <td>01/17/19 13:33</td>\n      <td>538 Adams St, San Francisco, CA 94016</td>\n    </tr>\n    <tr>\n      <th>3</th>\n      <td>141237</td>\n      <td>27in FHD Monitor</td>\n      <td>1</td>\n      <td>149.99</td>\n      <td>01/05/19 20:33</td>\n      <td>738 10th St, Los Angeles, CA 90001</td>\n    </tr>\n    <tr>\n      <th>4</th>\n      <td>141238</td>\n      <td>Wired Headphones</td>\n      <td>1</td>\n      <td>11.99</td>\n      <td>01/25/19 11:59</td>\n      <td>387 10th St, Austin, TX 73301</td>\n    </tr>\n  </tbody>\n</table>\n</div>"
     },
     "metadata": {},
     "execution_count": 11
    }
   ],
   "source": [
    "months = ['January', 'February', 'March', 'April', 'May', 'June', 'July', 'August', 'September', 'October', 'November', 'December']\n",
    "sales_list = []\n",
    "\n",
    "for m in months:\n",
    "    sales_list.append(pd.read_csv('Sales_' + m + '_2019.csv'))\n",
    "\n",
    "sales = pd.concat(sales_list, keys=months)\n",
    "sales.head()"
   ]
  },
  {
   "cell_type": "markdown",
   "metadata": {},
   "source": [
    "### Task 2: Add a Month column"
   ]
  },
  {
   "cell_type": "code",
   "execution_count": 12,
   "metadata": {},
   "outputs": [
    {
     "output_type": "execute_result",
     "data": {
      "text/plain": "  Order ID                     Product Quantity Ordered Price Each  Month  \\\n0   278797            Wired Headphones                1      11.99     11   \n1   278798        USB-C Charging Cable                2      11.95     11   \n2   278799    Apple Airpods Headphones                1      150.0     11   \n3   278800            27in FHD Monitor                1     149.99     11   \n4   278801  Bose SoundSport Headphones                1      99.99     11   \n\n       Order Date                      Purchase Address  \n0  11/21/19 09:54   46 Park St, New York City, NY 10001  \n1  11/17/19 10:03      962 Hickory St, Austin, TX 73301  \n2  11/19/19 14:56  464 Cherry St, Los Angeles, CA 90001  \n3  11/25/19 22:24        649 10th St, Seattle, WA 98101  \n4  11/09/19 13:56         522 Hill St, Boston, MA 02215  ",
      "text/html": "<div>\n<style scoped>\n    .dataframe tbody tr th:only-of-type {\n        vertical-align: middle;\n    }\n\n    .dataframe tbody tr th {\n        vertical-align: top;\n    }\n\n    .dataframe thead th {\n        text-align: right;\n    }\n</style>\n<table border=\"1\" class=\"dataframe\">\n  <thead>\n    <tr style=\"text-align: right;\">\n      <th></th>\n      <th>Order ID</th>\n      <th>Product</th>\n      <th>Quantity Ordered</th>\n      <th>Price Each</th>\n      <th>Month</th>\n      <th>Order Date</th>\n      <th>Purchase Address</th>\n    </tr>\n  </thead>\n  <tbody>\n    <tr>\n      <th>0</th>\n      <td>278797</td>\n      <td>Wired Headphones</td>\n      <td>1</td>\n      <td>11.99</td>\n      <td>11</td>\n      <td>11/21/19 09:54</td>\n      <td>46 Park St, New York City, NY 10001</td>\n    </tr>\n    <tr>\n      <th>1</th>\n      <td>278798</td>\n      <td>USB-C Charging Cable</td>\n      <td>2</td>\n      <td>11.95</td>\n      <td>11</td>\n      <td>11/17/19 10:03</td>\n      <td>962 Hickory St, Austin, TX 73301</td>\n    </tr>\n    <tr>\n      <th>2</th>\n      <td>278799</td>\n      <td>Apple Airpods Headphones</td>\n      <td>1</td>\n      <td>150.0</td>\n      <td>11</td>\n      <td>11/19/19 14:56</td>\n      <td>464 Cherry St, Los Angeles, CA 90001</td>\n    </tr>\n    <tr>\n      <th>3</th>\n      <td>278800</td>\n      <td>27in FHD Monitor</td>\n      <td>1</td>\n      <td>149.99</td>\n      <td>11</td>\n      <td>11/25/19 22:24</td>\n      <td>649 10th St, Seattle, WA 98101</td>\n    </tr>\n    <tr>\n      <th>4</th>\n      <td>278801</td>\n      <td>Bose SoundSport Headphones</td>\n      <td>1</td>\n      <td>99.99</td>\n      <td>11</td>\n      <td>11/09/19 13:56</td>\n      <td>522 Hill St, Boston, MA 02215</td>\n    </tr>\n  </tbody>\n</table>\n</div>"
     },
     "metadata": {},
     "execution_count": 12
    }
   ],
   "source": [
    "if not 'Month' in sales.columns:\n",
    "    sales.insert(4, 'Month', 0)\n",
    "\n",
    "for m,i in zip(months, range(1,13)):\n",
    "    sales.loc[m, 'Month'] = i\n",
    "\n",
    "sales.loc['November'].head()"
   ]
  },
  {
   "cell_type": "markdown",
   "metadata": {},
   "source": [
    "## Data Cleaning\n",
    "\n",
    "### Task 3: Find NaN rows"
   ]
  },
  {
   "cell_type": "code",
   "execution_count": 13,
   "metadata": {},
   "outputs": [
    {
     "output_type": "execute_result",
     "data": {
      "text/plain": "  Order ID                     Product Quantity Ordered Price Each  Month  \\\n0   176558        USB-C Charging Cable                2      11.95      4   \n2   176559  Bose SoundSport Headphones                1      99.99      4   \n3   176560                Google Phone                1        600      4   \n4   176560            Wired Headphones                1      11.99      4   \n5   176561            Wired Headphones                1      11.99      4   \n\n       Order Date                      Purchase Address  \n0  04/19/19 08:46          917 1st St, Dallas, TX 75001  \n2  04/07/19 22:30     682 Chestnut St, Boston, MA 02215  \n3  04/12/19 14:38  669 Spruce St, Los Angeles, CA 90001  \n4  04/12/19 14:38  669 Spruce St, Los Angeles, CA 90001  \n5  04/30/19 09:27     333 8th St, Los Angeles, CA 90001  ",
      "text/html": "<div>\n<style scoped>\n    .dataframe tbody tr th:only-of-type {\n        vertical-align: middle;\n    }\n\n    .dataframe tbody tr th {\n        vertical-align: top;\n    }\n\n    .dataframe thead th {\n        text-align: right;\n    }\n</style>\n<table border=\"1\" class=\"dataframe\">\n  <thead>\n    <tr style=\"text-align: right;\">\n      <th></th>\n      <th>Order ID</th>\n      <th>Product</th>\n      <th>Quantity Ordered</th>\n      <th>Price Each</th>\n      <th>Month</th>\n      <th>Order Date</th>\n      <th>Purchase Address</th>\n    </tr>\n  </thead>\n  <tbody>\n    <tr>\n      <th>0</th>\n      <td>176558</td>\n      <td>USB-C Charging Cable</td>\n      <td>2</td>\n      <td>11.95</td>\n      <td>4</td>\n      <td>04/19/19 08:46</td>\n      <td>917 1st St, Dallas, TX 75001</td>\n    </tr>\n    <tr>\n      <th>2</th>\n      <td>176559</td>\n      <td>Bose SoundSport Headphones</td>\n      <td>1</td>\n      <td>99.99</td>\n      <td>4</td>\n      <td>04/07/19 22:30</td>\n      <td>682 Chestnut St, Boston, MA 02215</td>\n    </tr>\n    <tr>\n      <th>3</th>\n      <td>176560</td>\n      <td>Google Phone</td>\n      <td>1</td>\n      <td>600</td>\n      <td>4</td>\n      <td>04/12/19 14:38</td>\n      <td>669 Spruce St, Los Angeles, CA 90001</td>\n    </tr>\n    <tr>\n      <th>4</th>\n      <td>176560</td>\n      <td>Wired Headphones</td>\n      <td>1</td>\n      <td>11.99</td>\n      <td>4</td>\n      <td>04/12/19 14:38</td>\n      <td>669 Spruce St, Los Angeles, CA 90001</td>\n    </tr>\n    <tr>\n      <th>5</th>\n      <td>176561</td>\n      <td>Wired Headphones</td>\n      <td>1</td>\n      <td>11.99</td>\n      <td>4</td>\n      <td>04/30/19 09:27</td>\n      <td>333 8th St, Los Angeles, CA 90001</td>\n    </tr>\n  </tbody>\n</table>\n</div>"
     },
     "metadata": {},
     "execution_count": 13
    }
   ],
   "source": [
    "#sales_null = sales[sales.isnull().any(axis=1)]\n",
    "\n",
    "sales = sales.dropna()\n",
    "sales.loc['April'].head()"
   ]
  },
  {
   "cell_type": "markdown",
   "metadata": {},
   "source": [
    "### Task 4: Convert values of 'Price Each' and 'Quantity Ordered' to numerical"
   ]
  },
  {
   "cell_type": "code",
   "execution_count": 14,
   "metadata": {},
   "outputs": [
    {
     "output_type": "execute_result",
     "data": {
      "text/plain": "          Order ID                   Product  Quantity Ordered  Price Each  \\\nJanuary 0   141234                    iPhone                 1      700.00   \n        1   141235  Lightning Charging Cable                 1       14.95   \n        2   141236          Wired Headphones                 2       11.99   \n        3   141237          27in FHD Monitor                 1      149.99   \n        4   141238          Wired Headphones                 1       11.99   \n\n           Month      Order Date                       Purchase Address  \nJanuary 0      1  01/22/19 21:25        944 Walnut St, Boston, MA 02215  \n        1      1  01/28/19 14:15       185 Maple St, Portland, OR 97035  \n        2      1  01/17/19 13:33  538 Adams St, San Francisco, CA 94016  \n        3      1  01/05/19 20:33     738 10th St, Los Angeles, CA 90001  \n        4      1  01/25/19 11:59          387 10th St, Austin, TX 73301  ",
      "text/html": "<div>\n<style scoped>\n    .dataframe tbody tr th:only-of-type {\n        vertical-align: middle;\n    }\n\n    .dataframe tbody tr th {\n        vertical-align: top;\n    }\n\n    .dataframe thead th {\n        text-align: right;\n    }\n</style>\n<table border=\"1\" class=\"dataframe\">\n  <thead>\n    <tr style=\"text-align: right;\">\n      <th></th>\n      <th></th>\n      <th>Order ID</th>\n      <th>Product</th>\n      <th>Quantity Ordered</th>\n      <th>Price Each</th>\n      <th>Month</th>\n      <th>Order Date</th>\n      <th>Purchase Address</th>\n    </tr>\n  </thead>\n  <tbody>\n    <tr>\n      <th rowspan=\"5\" valign=\"top\">January</th>\n      <th>0</th>\n      <td>141234</td>\n      <td>iPhone</td>\n      <td>1</td>\n      <td>700.00</td>\n      <td>1</td>\n      <td>01/22/19 21:25</td>\n      <td>944 Walnut St, Boston, MA 02215</td>\n    </tr>\n    <tr>\n      <th>1</th>\n      <td>141235</td>\n      <td>Lightning Charging Cable</td>\n      <td>1</td>\n      <td>14.95</td>\n      <td>1</td>\n      <td>01/28/19 14:15</td>\n      <td>185 Maple St, Portland, OR 97035</td>\n    </tr>\n    <tr>\n      <th>2</th>\n      <td>141236</td>\n      <td>Wired Headphones</td>\n      <td>2</td>\n      <td>11.99</td>\n      <td>1</td>\n      <td>01/17/19 13:33</td>\n      <td>538 Adams St, San Francisco, CA 94016</td>\n    </tr>\n    <tr>\n      <th>3</th>\n      <td>141237</td>\n      <td>27in FHD Monitor</td>\n      <td>1</td>\n      <td>149.99</td>\n      <td>1</td>\n      <td>01/05/19 20:33</td>\n      <td>738 10th St, Los Angeles, CA 90001</td>\n    </tr>\n    <tr>\n      <th>4</th>\n      <td>141238</td>\n      <td>Wired Headphones</td>\n      <td>1</td>\n      <td>11.99</td>\n      <td>1</td>\n      <td>01/25/19 11:59</td>\n      <td>387 10th St, Austin, TX 73301</td>\n    </tr>\n  </tbody>\n</table>\n</div>"
     },
     "metadata": {},
     "execution_count": 14
    }
   ],
   "source": [
    "#sales_invalid_price = sales['Price Each'].apply(lambda x: not isinstance(x,(int,float)))\n",
    "#sales_invalid_price.head()\n",
    "\n",
    "sales = sales.loc[sales['Price Each'] != 'Price Each']\n",
    "sales['Price Each'] = sales['Price Each'].astype(float)\n",
    "sales['Quantity Ordered'] = sales['Quantity Ordered'].astype(int)\n",
    "sales.head()"
   ]
  },
  {
   "cell_type": "markdown",
   "metadata": {},
   "source": [
    "### Task 5: Add a 'Order Total' column"
   ]
  },
  {
   "cell_type": "code",
   "execution_count": 19,
   "metadata": {},
   "outputs": [
    {
     "output_type": "execute_result",
     "data": {
      "text/plain": "          Order ID                   Product  Quantity Ordered  Price Each  \\\nJanuary 0   141234                    iPhone                 1      700.00   \n        1   141235  Lightning Charging Cable                 1       14.95   \n        2   141236          Wired Headphones                 2       11.99   \n        3   141237          27in FHD Monitor                 1      149.99   \n        4   141238          Wired Headphones                 1       11.99   \n\n           Order Total  Month      Order Date  \\\nJanuary 0       700.00      1  01/22/19 21:25   \n        1        14.95      1  01/28/19 14:15   \n        2        23.98      1  01/17/19 13:33   \n        3       149.99      1  01/05/19 20:33   \n        4        11.99      1  01/25/19 11:59   \n\n                                Purchase Address  \nJanuary 0        944 Walnut St, Boston, MA 02215  \n        1       185 Maple St, Portland, OR 97035  \n        2  538 Adams St, San Francisco, CA 94016  \n        3     738 10th St, Los Angeles, CA 90001  \n        4          387 10th St, Austin, TX 73301  ",
      "text/html": "<div>\n<style scoped>\n    .dataframe tbody tr th:only-of-type {\n        vertical-align: middle;\n    }\n\n    .dataframe tbody tr th {\n        vertical-align: top;\n    }\n\n    .dataframe thead th {\n        text-align: right;\n    }\n</style>\n<table border=\"1\" class=\"dataframe\">\n  <thead>\n    <tr style=\"text-align: right;\">\n      <th></th>\n      <th></th>\n      <th>Order ID</th>\n      <th>Product</th>\n      <th>Quantity Ordered</th>\n      <th>Price Each</th>\n      <th>Order Total</th>\n      <th>Month</th>\n      <th>Order Date</th>\n      <th>Purchase Address</th>\n    </tr>\n  </thead>\n  <tbody>\n    <tr>\n      <th rowspan=\"5\" valign=\"top\">January</th>\n      <th>0</th>\n      <td>141234</td>\n      <td>iPhone</td>\n      <td>1</td>\n      <td>700.00</td>\n      <td>700.00</td>\n      <td>1</td>\n      <td>01/22/19 21:25</td>\n      <td>944 Walnut St, Boston, MA 02215</td>\n    </tr>\n    <tr>\n      <th>1</th>\n      <td>141235</td>\n      <td>Lightning Charging Cable</td>\n      <td>1</td>\n      <td>14.95</td>\n      <td>14.95</td>\n      <td>1</td>\n      <td>01/28/19 14:15</td>\n      <td>185 Maple St, Portland, OR 97035</td>\n    </tr>\n    <tr>\n      <th>2</th>\n      <td>141236</td>\n      <td>Wired Headphones</td>\n      <td>2</td>\n      <td>11.99</td>\n      <td>23.98</td>\n      <td>1</td>\n      <td>01/17/19 13:33</td>\n      <td>538 Adams St, San Francisco, CA 94016</td>\n    </tr>\n    <tr>\n      <th>3</th>\n      <td>141237</td>\n      <td>27in FHD Monitor</td>\n      <td>1</td>\n      <td>149.99</td>\n      <td>149.99</td>\n      <td>1</td>\n      <td>01/05/19 20:33</td>\n      <td>738 10th St, Los Angeles, CA 90001</td>\n    </tr>\n    <tr>\n      <th>4</th>\n      <td>141238</td>\n      <td>Wired Headphones</td>\n      <td>1</td>\n      <td>11.99</td>\n      <td>11.99</td>\n      <td>1</td>\n      <td>01/25/19 11:59</td>\n      <td>387 10th St, Austin, TX 73301</td>\n    </tr>\n  </tbody>\n</table>\n</div>"
     },
     "metadata": {},
     "execution_count": 19
    }
   ],
   "source": [
    "if not 'Order Total' in sales.columns:\n",
    "    sales.insert(4, 'Order Total', 0)\n",
    "\n",
    "sales['Order Total'] = sales[['Quantity Ordered', 'Price Each']].product(axis=1)\n",
    "sales.head()"
   ]
  },
  {
   "cell_type": "markdown",
   "metadata": {},
   "source": [
    "### Question 1: What was the best month for sales? How much was earned that month?"
   ]
  },
  {
   "cell_type": "code",
   "execution_count": null,
   "metadata": {},
   "outputs": [],
   "source": []
  }
 ]
}