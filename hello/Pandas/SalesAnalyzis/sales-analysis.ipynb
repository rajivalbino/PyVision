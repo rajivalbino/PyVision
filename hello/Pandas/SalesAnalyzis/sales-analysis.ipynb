{
 "metadata": {
  "language_info": {
   "codemirror_mode": {
    "name": "ipython",
    "version": 3
   },
   "file_extension": ".py",
   "mimetype": "text/x-python",
   "name": "python",
   "nbconvert_exporter": "python",
   "pygments_lexer": "ipython3",
   "version": "3.8.5-final"
  },
  "orig_nbformat": 2,
  "kernelspec": {
   "name": "python_defaultSpec_1601216129389",
   "display_name": "Python 3.8.5 32-bit",
   "metadata": {
    "interpreter": {
     "hash": "6d58817d7a36abfa3a827e4c983e24a2b2aeec7ad475bf8b9406aeab7b3302d2"
    }
   }
  }
 },
 "nbformat": 4,
 "nbformat_minor": 2,
 "cells": [
  {
   "cell_type": "code",
   "execution_count": 48,
   "metadata": {},
   "outputs": [],
   "source": [
    "import pandas as pd\n",
    "import numpy as np\n",
    "import matplotlib.pyplot as plt"
   ]
  },
  {
   "cell_type": "markdown",
   "metadata": {},
   "source": [
    "### Task 1: Merge 12 months of sales into a single file"
   ]
  },
  {
   "cell_type": "code",
   "execution_count": 11,
   "metadata": {},
   "outputs": [
    {
     "output_type": "execute_result",
     "data": {
      "text/plain": "          Order ID                   Product Quantity Ordered Price Each  \\\nJanuary 0   141234                    iPhone                1        700   \n        1   141235  Lightning Charging Cable                1      14.95   \n        2   141236          Wired Headphones                2      11.99   \n        3   141237          27in FHD Monitor                1     149.99   \n        4   141238          Wired Headphones                1      11.99   \n\n               Order Date                       Purchase Address  \nJanuary 0  01/22/19 21:25        944 Walnut St, Boston, MA 02215  \n        1  01/28/19 14:15       185 Maple St, Portland, OR 97035  \n        2  01/17/19 13:33  538 Adams St, San Francisco, CA 94016  \n        3  01/05/19 20:33     738 10th St, Los Angeles, CA 90001  \n        4  01/25/19 11:59          387 10th St, Austin, TX 73301  ",
      "text/html": "<div>\n<style scoped>\n    .dataframe tbody tr th:only-of-type {\n        vertical-align: middle;\n    }\n\n    .dataframe tbody tr th {\n        vertical-align: top;\n    }\n\n    .dataframe thead th {\n        text-align: right;\n    }\n</style>\n<table border=\"1\" class=\"dataframe\">\n  <thead>\n    <tr style=\"text-align: right;\">\n      <th></th>\n      <th></th>\n      <th>Order ID</th>\n      <th>Product</th>\n      <th>Quantity Ordered</th>\n      <th>Price Each</th>\n      <th>Order Date</th>\n      <th>Purchase Address</th>\n    </tr>\n  </thead>\n  <tbody>\n    <tr>\n      <th rowspan=\"5\" valign=\"top\">January</th>\n      <th>0</th>\n      <td>141234</td>\n      <td>iPhone</td>\n      <td>1</td>\n      <td>700</td>\n      <td>01/22/19 21:25</td>\n      <td>944 Walnut St, Boston, MA 02215</td>\n    </tr>\n    <tr>\n      <th>1</th>\n      <td>141235</td>\n      <td>Lightning Charging Cable</td>\n      <td>1</td>\n      <td>14.95</td>\n      <td>01/28/19 14:15</td>\n      <td>185 Maple St, Portland, OR 97035</td>\n    </tr>\n    <tr>\n      <th>2</th>\n      <td>141236</td>\n      <td>Wired Headphones</td>\n      <td>2</td>\n      <td>11.99</td>\n      <td>01/17/19 13:33</td>\n      <td>538 Adams St, San Francisco, CA 94016</td>\n    </tr>\n    <tr>\n      <th>3</th>\n      <td>141237</td>\n      <td>27in FHD Monitor</td>\n      <td>1</td>\n      <td>149.99</td>\n      <td>01/05/19 20:33</td>\n      <td>738 10th St, Los Angeles, CA 90001</td>\n    </tr>\n    <tr>\n      <th>4</th>\n      <td>141238</td>\n      <td>Wired Headphones</td>\n      <td>1</td>\n      <td>11.99</td>\n      <td>01/25/19 11:59</td>\n      <td>387 10th St, Austin, TX 73301</td>\n    </tr>\n  </tbody>\n</table>\n</div>"
     },
     "metadata": {},
     "execution_count": 11
    }
   ],
   "source": [
    "months = ['January', 'February', 'March', 'April', 'May', 'June', 'July', 'August', 'September', 'October', 'November', 'December']\n",
    "sales_list = []\n",
    "\n",
    "for m in months:\n",
    "    sales_list.append(pd.read_csv('Sales_' + m + '_2019.csv'))\n",
    "\n",
    "sales = pd.concat(sales_list, keys=months)\n",
    "sales.head()"
   ]
  },
  {
   "cell_type": "markdown",
   "metadata": {},
   "source": [
    "### Task 2: Add a Month column"
   ]
  },
  {
   "cell_type": "code",
   "execution_count": 43,
   "metadata": {},
   "outputs": [
    {
     "output_type": "execute_result",
     "data": {
      "text/plain": "               Order ID                     Product  Quantity Ordered  \\\nJanuary  0       141234                      iPhone                 1   \n         1       141235    Lightning Charging Cable                 1   \n         2       141236            Wired Headphones                 2   \n         3       141237            27in FHD Monitor                 1   \n         4       141238            Wired Headphones                 1   \n...                 ...                         ...               ...   \nDecember 25112   319666    Lightning Charging Cable                 1   \n         25113   319667       AA Batteries (4-pack)                 2   \n         25114   319668             Vareebadd Phone                 1   \n         25115   319669            Wired Headphones                 1   \n         25116   319670  Bose SoundSport Headphones                 1   \n\n                Price Each  Order Total Month      Order Date  \\\nJanuary  0          700.00       700.00     1  01/22/19 21:25   \n         1           14.95        14.95     1  01/28/19 14:15   \n         2           11.99        23.98     1  01/17/19 13:33   \n         3          149.99       149.99     1  01/05/19 20:33   \n         4           11.99        11.99     1  01/25/19 11:59   \n...                    ...          ...   ...             ...   \nDecember 25112       14.95        14.95    12  12/11/19 20:58   \n         25113        3.84         7.68    12  12/01/19 12:01   \n         25114      400.00       400.00    12  12/09/19 06:43   \n         25115       11.99        11.99    12  12/03/19 10:39   \n         25116       99.99        99.99    12  12/21/19 21:45   \n\n                                      Purchase Address  \nJanuary  0             944 Walnut St, Boston, MA 02215  \n         1            185 Maple St, Portland, OR 97035  \n         2       538 Adams St, San Francisco, CA 94016  \n         3          738 10th St, Los Angeles, CA 90001  \n         4               387 10th St, Austin, TX 73301  \n...                                                ...  \nDecember 25112  14 Madison St, San Francisco, CA 94016  \n         25113    549 Willow St, Los Angeles, CA 90001  \n         25114        273 Wilson St, Seattle, WA 98101  \n         25115          778 River St, Dallas, TX 75001  \n         25116  747 Chestnut St, Los Angeles, CA 90001  \n\n[185950 rows x 8 columns]",
      "text/html": "<div>\n<style scoped>\n    .dataframe tbody tr th:only-of-type {\n        vertical-align: middle;\n    }\n\n    .dataframe tbody tr th {\n        vertical-align: top;\n    }\n\n    .dataframe thead th {\n        text-align: right;\n    }\n</style>\n<table border=\"1\" class=\"dataframe\">\n  <thead>\n    <tr style=\"text-align: right;\">\n      <th></th>\n      <th></th>\n      <th>Order ID</th>\n      <th>Product</th>\n      <th>Quantity Ordered</th>\n      <th>Price Each</th>\n      <th>Order Total</th>\n      <th>Month</th>\n      <th>Order Date</th>\n      <th>Purchase Address</th>\n    </tr>\n  </thead>\n  <tbody>\n    <tr>\n      <th rowspan=\"5\" valign=\"top\">January</th>\n      <th>0</th>\n      <td>141234</td>\n      <td>iPhone</td>\n      <td>1</td>\n      <td>700.00</td>\n      <td>700.00</td>\n      <td>1</td>\n      <td>01/22/19 21:25</td>\n      <td>944 Walnut St, Boston, MA 02215</td>\n    </tr>\n    <tr>\n      <th>1</th>\n      <td>141235</td>\n      <td>Lightning Charging Cable</td>\n      <td>1</td>\n      <td>14.95</td>\n      <td>14.95</td>\n      <td>1</td>\n      <td>01/28/19 14:15</td>\n      <td>185 Maple St, Portland, OR 97035</td>\n    </tr>\n    <tr>\n      <th>2</th>\n      <td>141236</td>\n      <td>Wired Headphones</td>\n      <td>2</td>\n      <td>11.99</td>\n      <td>23.98</td>\n      <td>1</td>\n      <td>01/17/19 13:33</td>\n      <td>538 Adams St, San Francisco, CA 94016</td>\n    </tr>\n    <tr>\n      <th>3</th>\n      <td>141237</td>\n      <td>27in FHD Monitor</td>\n      <td>1</td>\n      <td>149.99</td>\n      <td>149.99</td>\n      <td>1</td>\n      <td>01/05/19 20:33</td>\n      <td>738 10th St, Los Angeles, CA 90001</td>\n    </tr>\n    <tr>\n      <th>4</th>\n      <td>141238</td>\n      <td>Wired Headphones</td>\n      <td>1</td>\n      <td>11.99</td>\n      <td>11.99</td>\n      <td>1</td>\n      <td>01/25/19 11:59</td>\n      <td>387 10th St, Austin, TX 73301</td>\n    </tr>\n    <tr>\n      <th>...</th>\n      <th>...</th>\n      <td>...</td>\n      <td>...</td>\n      <td>...</td>\n      <td>...</td>\n      <td>...</td>\n      <td>...</td>\n      <td>...</td>\n      <td>...</td>\n    </tr>\n    <tr>\n      <th rowspan=\"5\" valign=\"top\">December</th>\n      <th>25112</th>\n      <td>319666</td>\n      <td>Lightning Charging Cable</td>\n      <td>1</td>\n      <td>14.95</td>\n      <td>14.95</td>\n      <td>12</td>\n      <td>12/11/19 20:58</td>\n      <td>14 Madison St, San Francisco, CA 94016</td>\n    </tr>\n    <tr>\n      <th>25113</th>\n      <td>319667</td>\n      <td>AA Batteries (4-pack)</td>\n      <td>2</td>\n      <td>3.84</td>\n      <td>7.68</td>\n      <td>12</td>\n      <td>12/01/19 12:01</td>\n      <td>549 Willow St, Los Angeles, CA 90001</td>\n    </tr>\n    <tr>\n      <th>25114</th>\n      <td>319668</td>\n      <td>Vareebadd Phone</td>\n      <td>1</td>\n      <td>400.00</td>\n      <td>400.00</td>\n      <td>12</td>\n      <td>12/09/19 06:43</td>\n      <td>273 Wilson St, Seattle, WA 98101</td>\n    </tr>\n    <tr>\n      <th>25115</th>\n      <td>319669</td>\n      <td>Wired Headphones</td>\n      <td>1</td>\n      <td>11.99</td>\n      <td>11.99</td>\n      <td>12</td>\n      <td>12/03/19 10:39</td>\n      <td>778 River St, Dallas, TX 75001</td>\n    </tr>\n    <tr>\n      <th>25116</th>\n      <td>319670</td>\n      <td>Bose SoundSport Headphones</td>\n      <td>1</td>\n      <td>99.99</td>\n      <td>99.99</td>\n      <td>12</td>\n      <td>12/21/19 21:45</td>\n      <td>747 Chestnut St, Los Angeles, CA 90001</td>\n    </tr>\n  </tbody>\n</table>\n<p>185950 rows × 8 columns</p>\n</div>"
     },
     "metadata": {},
     "execution_count": 43
    }
   ],
   "source": [
    "if not 'Month' in sales.columns:\n",
    "    sales.insert(4, 'Month', 0)\n",
    "\n",
    "for m,i in zip(months, range(1,13)):\n",
    "    sales.loc[m, 'Month'] = i\n",
    "\n",
    "sales"
   ]
  },
  {
   "cell_type": "markdown",
   "metadata": {},
   "source": [
    "## Data Cleaning\n",
    "\n",
    "### Task 3: Find NaN rows"
   ]
  },
  {
   "cell_type": "code",
   "execution_count": 44,
   "metadata": {},
   "outputs": [
    {
     "output_type": "execute_result",
     "data": {
      "text/plain": "  Order ID                     Product  Quantity Ordered  Price Each  \\\n0   176558        USB-C Charging Cable                 2       11.95   \n2   176559  Bose SoundSport Headphones                 1       99.99   \n3   176560                Google Phone                 1      600.00   \n4   176560            Wired Headphones                 1       11.99   \n5   176561            Wired Headphones                 1       11.99   \n\n   Order Total Month      Order Date                      Purchase Address  \n0        23.90     4  04/19/19 08:46          917 1st St, Dallas, TX 75001  \n2        99.99     4  04/07/19 22:30     682 Chestnut St, Boston, MA 02215  \n3       600.00     4  04/12/19 14:38  669 Spruce St, Los Angeles, CA 90001  \n4        11.99     4  04/12/19 14:38  669 Spruce St, Los Angeles, CA 90001  \n5        11.99     4  04/30/19 09:27     333 8th St, Los Angeles, CA 90001  ",
      "text/html": "<div>\n<style scoped>\n    .dataframe tbody tr th:only-of-type {\n        vertical-align: middle;\n    }\n\n    .dataframe tbody tr th {\n        vertical-align: top;\n    }\n\n    .dataframe thead th {\n        text-align: right;\n    }\n</style>\n<table border=\"1\" class=\"dataframe\">\n  <thead>\n    <tr style=\"text-align: right;\">\n      <th></th>\n      <th>Order ID</th>\n      <th>Product</th>\n      <th>Quantity Ordered</th>\n      <th>Price Each</th>\n      <th>Order Total</th>\n      <th>Month</th>\n      <th>Order Date</th>\n      <th>Purchase Address</th>\n    </tr>\n  </thead>\n  <tbody>\n    <tr>\n      <th>0</th>\n      <td>176558</td>\n      <td>USB-C Charging Cable</td>\n      <td>2</td>\n      <td>11.95</td>\n      <td>23.90</td>\n      <td>4</td>\n      <td>04/19/19 08:46</td>\n      <td>917 1st St, Dallas, TX 75001</td>\n    </tr>\n    <tr>\n      <th>2</th>\n      <td>176559</td>\n      <td>Bose SoundSport Headphones</td>\n      <td>1</td>\n      <td>99.99</td>\n      <td>99.99</td>\n      <td>4</td>\n      <td>04/07/19 22:30</td>\n      <td>682 Chestnut St, Boston, MA 02215</td>\n    </tr>\n    <tr>\n      <th>3</th>\n      <td>176560</td>\n      <td>Google Phone</td>\n      <td>1</td>\n      <td>600.00</td>\n      <td>600.00</td>\n      <td>4</td>\n      <td>04/12/19 14:38</td>\n      <td>669 Spruce St, Los Angeles, CA 90001</td>\n    </tr>\n    <tr>\n      <th>4</th>\n      <td>176560</td>\n      <td>Wired Headphones</td>\n      <td>1</td>\n      <td>11.99</td>\n      <td>11.99</td>\n      <td>4</td>\n      <td>04/12/19 14:38</td>\n      <td>669 Spruce St, Los Angeles, CA 90001</td>\n    </tr>\n    <tr>\n      <th>5</th>\n      <td>176561</td>\n      <td>Wired Headphones</td>\n      <td>1</td>\n      <td>11.99</td>\n      <td>11.99</td>\n      <td>4</td>\n      <td>04/30/19 09:27</td>\n      <td>333 8th St, Los Angeles, CA 90001</td>\n    </tr>\n  </tbody>\n</table>\n</div>"
     },
     "metadata": {},
     "execution_count": 44
    }
   ],
   "source": [
    "#sales_null = sales[sales.isnull().any(axis=1)]\n",
    "\n",
    "sales = sales.dropna()\n",
    "sales.loc['April'].head()"
   ]
  },
  {
   "cell_type": "markdown",
   "metadata": {},
   "source": [
    "### Task 4: Convert values of 'Price Each' and 'Quantity Ordered' to numerical"
   ]
  },
  {
   "cell_type": "code",
   "execution_count": 45,
   "metadata": {},
   "outputs": [
    {
     "output_type": "execute_result",
     "data": {
      "text/plain": "          Order ID                   Product  Quantity Ordered  Price Each  \\\nJanuary 0   141234                    iPhone                 1      700.00   \n        1   141235  Lightning Charging Cable                 1       14.95   \n        2   141236          Wired Headphones                 2       11.99   \n        3   141237          27in FHD Monitor                 1      149.99   \n        4   141238          Wired Headphones                 1       11.99   \n\n           Order Total Month      Order Date  \\\nJanuary 0       700.00     1  01/22/19 21:25   \n        1        14.95     1  01/28/19 14:15   \n        2        23.98     1  01/17/19 13:33   \n        3       149.99     1  01/05/19 20:33   \n        4        11.99     1  01/25/19 11:59   \n\n                                Purchase Address  \nJanuary 0        944 Walnut St, Boston, MA 02215  \n        1       185 Maple St, Portland, OR 97035  \n        2  538 Adams St, San Francisco, CA 94016  \n        3     738 10th St, Los Angeles, CA 90001  \n        4          387 10th St, Austin, TX 73301  ",
      "text/html": "<div>\n<style scoped>\n    .dataframe tbody tr th:only-of-type {\n        vertical-align: middle;\n    }\n\n    .dataframe tbody tr th {\n        vertical-align: top;\n    }\n\n    .dataframe thead th {\n        text-align: right;\n    }\n</style>\n<table border=\"1\" class=\"dataframe\">\n  <thead>\n    <tr style=\"text-align: right;\">\n      <th></th>\n      <th></th>\n      <th>Order ID</th>\n      <th>Product</th>\n      <th>Quantity Ordered</th>\n      <th>Price Each</th>\n      <th>Order Total</th>\n      <th>Month</th>\n      <th>Order Date</th>\n      <th>Purchase Address</th>\n    </tr>\n  </thead>\n  <tbody>\n    <tr>\n      <th rowspan=\"5\" valign=\"top\">January</th>\n      <th>0</th>\n      <td>141234</td>\n      <td>iPhone</td>\n      <td>1</td>\n      <td>700.00</td>\n      <td>700.00</td>\n      <td>1</td>\n      <td>01/22/19 21:25</td>\n      <td>944 Walnut St, Boston, MA 02215</td>\n    </tr>\n    <tr>\n      <th>1</th>\n      <td>141235</td>\n      <td>Lightning Charging Cable</td>\n      <td>1</td>\n      <td>14.95</td>\n      <td>14.95</td>\n      <td>1</td>\n      <td>01/28/19 14:15</td>\n      <td>185 Maple St, Portland, OR 97035</td>\n    </tr>\n    <tr>\n      <th>2</th>\n      <td>141236</td>\n      <td>Wired Headphones</td>\n      <td>2</td>\n      <td>11.99</td>\n      <td>23.98</td>\n      <td>1</td>\n      <td>01/17/19 13:33</td>\n      <td>538 Adams St, San Francisco, CA 94016</td>\n    </tr>\n    <tr>\n      <th>3</th>\n      <td>141237</td>\n      <td>27in FHD Monitor</td>\n      <td>1</td>\n      <td>149.99</td>\n      <td>149.99</td>\n      <td>1</td>\n      <td>01/05/19 20:33</td>\n      <td>738 10th St, Los Angeles, CA 90001</td>\n    </tr>\n    <tr>\n      <th>4</th>\n      <td>141238</td>\n      <td>Wired Headphones</td>\n      <td>1</td>\n      <td>11.99</td>\n      <td>11.99</td>\n      <td>1</td>\n      <td>01/25/19 11:59</td>\n      <td>387 10th St, Austin, TX 73301</td>\n    </tr>\n  </tbody>\n</table>\n</div>"
     },
     "metadata": {},
     "execution_count": 45
    }
   ],
   "source": [
    "#sales_invalid_price = sales['Price Each'].apply(lambda x: not isinstance(x,(int,float)))\n",
    "#sales_invalid_price.head()\n",
    "\n",
    "sales = sales.loc[sales['Price Each'] != 'Price Each'] # clean up\n",
    "sales['Price Each'] = sales['Price Each'].astype(float) # could have used pd.to_numeric(sales['Price Each'])\n",
    "sales['Quantity Ordered'] = sales['Quantity Ordered'].astype(int)\n",
    "sales.head()"
   ]
  },
  {
   "cell_type": "markdown",
   "metadata": {},
   "source": [
    "### Task 5: Add a 'Order Total' column"
   ]
  },
  {
   "cell_type": "code",
   "execution_count": 46,
   "metadata": {},
   "outputs": [
    {
     "output_type": "execute_result",
     "data": {
      "text/plain": "          Order ID                   Product  Quantity Ordered  Price Each  \\\nJanuary 0   141234                    iPhone                 1      700.00   \n        1   141235  Lightning Charging Cable                 1       14.95   \n        2   141236          Wired Headphones                 2       11.99   \n        3   141237          27in FHD Monitor                 1      149.99   \n        4   141238          Wired Headphones                 1       11.99   \n\n           Order Total Month      Order Date  \\\nJanuary 0       700.00     1  01/22/19 21:25   \n        1        14.95     1  01/28/19 14:15   \n        2        23.98     1  01/17/19 13:33   \n        3       149.99     1  01/05/19 20:33   \n        4        11.99     1  01/25/19 11:59   \n\n                                Purchase Address  \nJanuary 0        944 Walnut St, Boston, MA 02215  \n        1       185 Maple St, Portland, OR 97035  \n        2  538 Adams St, San Francisco, CA 94016  \n        3     738 10th St, Los Angeles, CA 90001  \n        4          387 10th St, Austin, TX 73301  ",
      "text/html": "<div>\n<style scoped>\n    .dataframe tbody tr th:only-of-type {\n        vertical-align: middle;\n    }\n\n    .dataframe tbody tr th {\n        vertical-align: top;\n    }\n\n    .dataframe thead th {\n        text-align: right;\n    }\n</style>\n<table border=\"1\" class=\"dataframe\">\n  <thead>\n    <tr style=\"text-align: right;\">\n      <th></th>\n      <th></th>\n      <th>Order ID</th>\n      <th>Product</th>\n      <th>Quantity Ordered</th>\n      <th>Price Each</th>\n      <th>Order Total</th>\n      <th>Month</th>\n      <th>Order Date</th>\n      <th>Purchase Address</th>\n    </tr>\n  </thead>\n  <tbody>\n    <tr>\n      <th rowspan=\"5\" valign=\"top\">January</th>\n      <th>0</th>\n      <td>141234</td>\n      <td>iPhone</td>\n      <td>1</td>\n      <td>700.00</td>\n      <td>700.00</td>\n      <td>1</td>\n      <td>01/22/19 21:25</td>\n      <td>944 Walnut St, Boston, MA 02215</td>\n    </tr>\n    <tr>\n      <th>1</th>\n      <td>141235</td>\n      <td>Lightning Charging Cable</td>\n      <td>1</td>\n      <td>14.95</td>\n      <td>14.95</td>\n      <td>1</td>\n      <td>01/28/19 14:15</td>\n      <td>185 Maple St, Portland, OR 97035</td>\n    </tr>\n    <tr>\n      <th>2</th>\n      <td>141236</td>\n      <td>Wired Headphones</td>\n      <td>2</td>\n      <td>11.99</td>\n      <td>23.98</td>\n      <td>1</td>\n      <td>01/17/19 13:33</td>\n      <td>538 Adams St, San Francisco, CA 94016</td>\n    </tr>\n    <tr>\n      <th>3</th>\n      <td>141237</td>\n      <td>27in FHD Monitor</td>\n      <td>1</td>\n      <td>149.99</td>\n      <td>149.99</td>\n      <td>1</td>\n      <td>01/05/19 20:33</td>\n      <td>738 10th St, Los Angeles, CA 90001</td>\n    </tr>\n    <tr>\n      <th>4</th>\n      <td>141238</td>\n      <td>Wired Headphones</td>\n      <td>1</td>\n      <td>11.99</td>\n      <td>11.99</td>\n      <td>1</td>\n      <td>01/25/19 11:59</td>\n      <td>387 10th St, Austin, TX 73301</td>\n    </tr>\n  </tbody>\n</table>\n</div>"
     },
     "metadata": {},
     "execution_count": 46
    }
   ],
   "source": [
    "if not 'Order Total' in sales.columns:\n",
    "    sales.insert(4, 'Order Total', 0)\n",
    "\n",
    "sales['Order Total'] = sales['Quantity Ordered'] * sales['Price Each']\n",
    "sales.head()"
   ]
  },
  {
   "cell_type": "markdown",
   "metadata": {},
   "source": [
    "### Question 1: What was the best month for sales? How much was earned that month?"
   ]
  },
  {
   "cell_type": "code",
   "execution_count": 47,
   "metadata": {},
   "outputs": [
    {
     "output_type": "execute_result",
     "data": {
      "text/plain": "        Order Total $ (millions)\nMonth                           \n1      1.815335e+06     $ 1.82 M\n2      2.203481e+06      $ 2.2 M\n3      2.809063e+06     $ 2.81 M\n4      3.396059e+06      $ 3.4 M\n5      3.144585e+06     $ 3.14 M\n6      2.578293e+06     $ 2.58 M\n7      2.646900e+06     $ 2.65 M\n8      2.244412e+06     $ 2.24 M\n9      2.098817e+06      $ 2.1 M\n10     3.736884e+06     $ 3.74 M\n11     3.198909e+06      $ 3.2 M\n12     4.619297e+06     $ 4.62 M",
      "text/html": "<div>\n<style scoped>\n    .dataframe tbody tr th:only-of-type {\n        vertical-align: middle;\n    }\n\n    .dataframe tbody tr th {\n        vertical-align: top;\n    }\n\n    .dataframe thead th {\n        text-align: right;\n    }\n</style>\n<table border=\"1\" class=\"dataframe\">\n  <thead>\n    <tr style=\"text-align: right;\">\n      <th></th>\n      <th>Order Total</th>\n      <th>$ (millions)</th>\n    </tr>\n    <tr>\n      <th>Month</th>\n      <th></th>\n      <th></th>\n    </tr>\n  </thead>\n  <tbody>\n    <tr>\n      <th>1</th>\n      <td>1.815335e+06</td>\n      <td>$ 1.82 M</td>\n    </tr>\n    <tr>\n      <th>2</th>\n      <td>2.203481e+06</td>\n      <td>$ 2.2 M</td>\n    </tr>\n    <tr>\n      <th>3</th>\n      <td>2.809063e+06</td>\n      <td>$ 2.81 M</td>\n    </tr>\n    <tr>\n      <th>4</th>\n      <td>3.396059e+06</td>\n      <td>$ 3.4 M</td>\n    </tr>\n    <tr>\n      <th>5</th>\n      <td>3.144585e+06</td>\n      <td>$ 3.14 M</td>\n    </tr>\n    <tr>\n      <th>6</th>\n      <td>2.578293e+06</td>\n      <td>$ 2.58 M</td>\n    </tr>\n    <tr>\n      <th>7</th>\n      <td>2.646900e+06</td>\n      <td>$ 2.65 M</td>\n    </tr>\n    <tr>\n      <th>8</th>\n      <td>2.244412e+06</td>\n      <td>$ 2.24 M</td>\n    </tr>\n    <tr>\n      <th>9</th>\n      <td>2.098817e+06</td>\n      <td>$ 2.1 M</td>\n    </tr>\n    <tr>\n      <th>10</th>\n      <td>3.736884e+06</td>\n      <td>$ 3.74 M</td>\n    </tr>\n    <tr>\n      <th>11</th>\n      <td>3.198909e+06</td>\n      <td>$ 3.2 M</td>\n    </tr>\n    <tr>\n      <th>12</th>\n      <td>4.619297e+06</td>\n      <td>$ 4.62 M</td>\n    </tr>\n  </tbody>\n</table>\n</div>"
     },
     "metadata": {},
     "execution_count": 47
    }
   ],
   "source": [
    "month_sales = sales.groupby('Month').sum()\n",
    "month_sales = month_sales.drop(['Quantity Ordered', 'Price Each'], axis=1)\n",
    "month_sales['$ (millions)'] = '$ ' + (month_sales['Order Total']/1000000).round(2).astype(str) + ' M'\n",
    "\n",
    "month_sales.head(12)"
   ]
  },
  {
   "cell_type": "markdown",
   "metadata": {},
   "source": [
    "##### December was the best month for sales, with a total earnings of 4.62 million."
   ]
  },
  {
   "cell_type": "code",
   "execution_count": null,
   "metadata": {},
   "outputs": [],
   "source": []
  }
 ]
}