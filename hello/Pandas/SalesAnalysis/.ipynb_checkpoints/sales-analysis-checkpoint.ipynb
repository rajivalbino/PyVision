{
 "cells": [
  {
   "cell_type": "code",
   "execution_count": 1,
   "metadata": {},
   "outputs": [],
   "source": [
    "import pandas as pd\n",
    "import numpy as np\n",
    "import matplotlib.pyplot as plt"
   ]
  },
  {
   "cell_type": "markdown",
   "metadata": {},
   "source": [
    "#### Task 1: Merge 12 months of sales into a single file"
   ]
  },
  {
   "cell_type": "code",
   "execution_count": 2,
   "metadata": {},
   "outputs": [],
   "source": [
    "months = ['January', 'February', 'March', 'April', 'May', 'June', 'July', 'August', 'September', 'October', 'November', 'December']\n",
    "sales_list = []\n",
    "\n",
    "for m in months:\n",
    "    sales_list.append(pd.read_csv('Sales_' + m + '_2019.csv'))\n",
    "\n",
    "sales = pd.concat(sales_list, keys=months)\n",
    "#sales"
   ]
  },
  {
   "cell_type": "markdown",
   "metadata": {},
   "source": [
    "## Data Augmentation\n",
    "\n",
    "#### Task 2: Add a Month column"
   ]
  },
  {
   "cell_type": "code",
   "execution_count": 3,
   "metadata": {},
   "outputs": [],
   "source": [
    "if not 'Month' in sales.columns:\n",
    "    sales.insert(4, 'Month', 0)\n",
    "\n",
    "for m,i in zip(months, range(1,13)):\n",
    "    sales.loc[m, 'Month'] = i\n",
    "\n",
    "#sales"
   ]
  },
  {
   "cell_type": "markdown",
   "metadata": {},
   "source": [
    "## Data Cleaning\n",
    "\n",
    "#### Task 3: Find NaN rows"
   ]
  },
  {
   "cell_type": "code",
   "execution_count": 4,
   "metadata": {},
   "outputs": [],
   "source": [
    "#sales_null = sales[sales.isnull().any(axis=1)]\n",
    "\n",
    "sales = sales.dropna()\n",
    "#sales.loc['April'].head()"
   ]
  },
  {
   "cell_type": "markdown",
   "metadata": {},
   "source": [
    "#### Task 4: Convert values of 'Price Each' and 'Quantity Ordered' to numerical"
   ]
  },
  {
   "cell_type": "code",
   "execution_count": 5,
   "metadata": {},
   "outputs": [],
   "source": [
    "#sales_invalid_price = sales['Price Each'].apply(lambda x: not isinstance(x,(int,float)))\n",
    "#sales_invalid_price.head()\n",
    "\n",
    "sales = sales.loc[sales['Price Each'] != 'Price Each'] # clean up\n",
    "sales['Price Each'] = sales['Price Each'].astype(float) # could have used pd.to_numeric(sales['Price Each'])\n",
    "sales['Quantity Ordered'] = sales['Quantity Ordered'].astype(int)\n",
    "#sales.head()"
   ]
  },
  {
   "cell_type": "markdown",
   "metadata": {},
   "source": [
    "#### Task 5: Add a 'Order Total' column"
   ]
  },
  {
   "cell_type": "code",
   "execution_count": 6,
   "metadata": {},
   "outputs": [],
   "source": [
    "if not 'Order Total' in sales.columns:\n",
    "    sales.insert(4, 'Order Total', 0)\n",
    "\n",
    "sales['Order Total'] = sales['Quantity Ordered'] * sales['Price Each']\n",
    "#sales.head()"
   ]
  },
  {
   "cell_type": "markdown",
   "metadata": {},
   "source": [
    "### Question 1: What was the best month for sales? How much was earned that month?"
   ]
  },
  {
   "cell_type": "code",
   "execution_count": 7,
   "metadata": {},
   "outputs": [
    {
     "data": {
      "text/html": [
       "<div>\n",
       "<style scoped>\n",
       "    .dataframe tbody tr th:only-of-type {\n",
       "        vertical-align: middle;\n",
       "    }\n",
       "\n",
       "    .dataframe tbody tr th {\n",
       "        vertical-align: top;\n",
       "    }\n",
       "\n",
       "    .dataframe thead th {\n",
       "        text-align: right;\n",
       "    }\n",
       "</style>\n",
       "<table border=\"1\" class=\"dataframe\">\n",
       "  <thead>\n",
       "    <tr style=\"text-align: right;\">\n",
       "      <th></th>\n",
       "      <th>Order Total</th>\n",
       "      <th>Total Rounded</th>\n",
       "      <th>$ (millions)</th>\n",
       "    </tr>\n",
       "    <tr>\n",
       "      <th>Month</th>\n",
       "      <th></th>\n",
       "      <th></th>\n",
       "      <th></th>\n",
       "    </tr>\n",
       "  </thead>\n",
       "  <tbody>\n",
       "    <tr>\n",
       "      <th>1</th>\n",
       "      <td>1.815335e+06</td>\n",
       "      <td>1.82</td>\n",
       "      <td>$ 1.82 M</td>\n",
       "    </tr>\n",
       "    <tr>\n",
       "      <th>2</th>\n",
       "      <td>2.203481e+06</td>\n",
       "      <td>2.20</td>\n",
       "      <td>$ 2.2 M</td>\n",
       "    </tr>\n",
       "    <tr>\n",
       "      <th>3</th>\n",
       "      <td>2.809063e+06</td>\n",
       "      <td>2.81</td>\n",
       "      <td>$ 2.81 M</td>\n",
       "    </tr>\n",
       "    <tr>\n",
       "      <th>4</th>\n",
       "      <td>3.396059e+06</td>\n",
       "      <td>3.40</td>\n",
       "      <td>$ 3.4 M</td>\n",
       "    </tr>\n",
       "    <tr>\n",
       "      <th>5</th>\n",
       "      <td>3.144585e+06</td>\n",
       "      <td>3.14</td>\n",
       "      <td>$ 3.14 M</td>\n",
       "    </tr>\n",
       "    <tr>\n",
       "      <th>6</th>\n",
       "      <td>2.578293e+06</td>\n",
       "      <td>2.58</td>\n",
       "      <td>$ 2.58 M</td>\n",
       "    </tr>\n",
       "    <tr>\n",
       "      <th>7</th>\n",
       "      <td>2.646900e+06</td>\n",
       "      <td>2.65</td>\n",
       "      <td>$ 2.65 M</td>\n",
       "    </tr>\n",
       "    <tr>\n",
       "      <th>8</th>\n",
       "      <td>2.244412e+06</td>\n",
       "      <td>2.24</td>\n",
       "      <td>$ 2.24 M</td>\n",
       "    </tr>\n",
       "    <tr>\n",
       "      <th>9</th>\n",
       "      <td>2.098817e+06</td>\n",
       "      <td>2.10</td>\n",
       "      <td>$ 2.1 M</td>\n",
       "    </tr>\n",
       "    <tr>\n",
       "      <th>10</th>\n",
       "      <td>3.736884e+06</td>\n",
       "      <td>3.74</td>\n",
       "      <td>$ 3.74 M</td>\n",
       "    </tr>\n",
       "    <tr>\n",
       "      <th>11</th>\n",
       "      <td>3.198909e+06</td>\n",
       "      <td>3.20</td>\n",
       "      <td>$ 3.2 M</td>\n",
       "    </tr>\n",
       "    <tr>\n",
       "      <th>12</th>\n",
       "      <td>4.619297e+06</td>\n",
       "      <td>4.62</td>\n",
       "      <td>$ 4.62 M</td>\n",
       "    </tr>\n",
       "  </tbody>\n",
       "</table>\n",
       "</div>"
      ],
      "text/plain": [
       "        Order Total  Total Rounded $ (millions)\n",
       "Month                                          \n",
       "1      1.815335e+06           1.82     $ 1.82 M\n",
       "2      2.203481e+06           2.20      $ 2.2 M\n",
       "3      2.809063e+06           2.81     $ 2.81 M\n",
       "4      3.396059e+06           3.40      $ 3.4 M\n",
       "5      3.144585e+06           3.14     $ 3.14 M\n",
       "6      2.578293e+06           2.58     $ 2.58 M\n",
       "7      2.646900e+06           2.65     $ 2.65 M\n",
       "8      2.244412e+06           2.24     $ 2.24 M\n",
       "9      2.098817e+06           2.10      $ 2.1 M\n",
       "10     3.736884e+06           3.74     $ 3.74 M\n",
       "11     3.198909e+06           3.20      $ 3.2 M\n",
       "12     4.619297e+06           4.62     $ 4.62 M"
      ]
     },
     "execution_count": 7,
     "metadata": {},
     "output_type": "execute_result"
    }
   ],
   "source": [
    "month_sales = sales.groupby('Month').sum()\n",
    "month_sales = month_sales.drop(['Quantity Ordered', 'Price Each'], axis=1)\n",
    "month_sales['Total Rounded'] = round(month_sales['Order Total']/1000000, 2)\n",
    "month_sales['$ (millions)'] = '$ ' + (month_sales['Order Total']/1000000).round(2).astype(str) + ' M'\n",
    "\n",
    "month_sales.head(12)"
   ]
  },
  {
   "cell_type": "code",
   "execution_count": 8,
   "metadata": {},
   "outputs": [
    {
     "data": {
      "image/png": "[encoded data removed]",
      "text/plain": [
       "<Figure size 432x288 with 1 Axes>"
      ]
     },
     "metadata": {
      "needs_background": "light"
     },
     "output_type": "display_data"
    }
   ],
   "source": [
    "plt.bar([s[:3] for s in months], month_sales['Total Rounded'])\n",
    "plt.ylabel('Sales $ (millions)')\n",
    "plt.show()"
   ]
  },
  {
   "cell_type": "markdown",
   "metadata": {},
   "source": [
    "#### Task 6: Add a 'City' column"
   ]
  },
  {
   "cell_type": "code",
   "execution_count": 9,
   "metadata": {},
   "outputs": [],
   "source": [
    "sales['City'] = sales['Purchase Address'].apply(lambda s: s.split(', ')[1])\n",
    "#sales.head()"
   ]
  },
  {
   "cell_type": "markdown",
   "metadata": {},
   "source": [
    "#### Task 7: Add a 'State' column"
   ]
  },
  {
   "cell_type": "code",
   "execution_count": 10,
   "metadata": {},
   "outputs": [],
   "source": [
    "def get_state(s):\n",
    "    return s.split(', ')[2][:2]\n",
    "\n",
    "sales['State'] = sales['Purchase Address'].apply(get_state)\n",
    "#sales.head()"
   ]
  },
  {
   "cell_type": "markdown",
   "metadata": {},
   "source": [
    "#### Task 8: Unify City and State"
   ]
  },
  {
   "cell_type": "code",
   "execution_count": 11,
   "metadata": {},
   "outputs": [],
   "source": [
    "sales['City'] = sales['City'] + ' ' + sales['State']\n",
    "sales = sales.drop(['State'], axis=1)\n",
    "#sales.head()"
   ]
  },
  {
   "cell_type": "markdown",
   "metadata": {},
   "source": [
    "### Question 2: What city had the highest number of sales?"
   ]
  },
  {
   "cell_type": "code",
   "execution_count": 12,
   "metadata": {},
   "outputs": [
    {
     "data": {
      "text/html": [
       "<div>\n",
       "<style scoped>\n",
       "    .dataframe tbody tr th:only-of-type {\n",
       "        vertical-align: middle;\n",
       "    }\n",
       "\n",
       "    .dataframe tbody tr th {\n",
       "        vertical-align: top;\n",
       "    }\n",
       "\n",
       "    .dataframe thead th {\n",
       "        text-align: right;\n",
       "    }\n",
       "</style>\n",
       "<table border=\"1\" class=\"dataframe\">\n",
       "  <thead>\n",
       "    <tr style=\"text-align: right;\">\n",
       "      <th></th>\n",
       "      <th>Order Total</th>\n",
       "      <th>Total Rounded</th>\n",
       "      <th>$ (millions)</th>\n",
       "    </tr>\n",
       "    <tr>\n",
       "      <th>City</th>\n",
       "      <th></th>\n",
       "      <th></th>\n",
       "      <th></th>\n",
       "    </tr>\n",
       "  </thead>\n",
       "  <tbody>\n",
       "    <tr>\n",
       "      <th>Atlanta GA</th>\n",
       "      <td>2.795499e+06</td>\n",
       "      <td>2.80</td>\n",
       "      <td>$ 2.8 M</td>\n",
       "    </tr>\n",
       "    <tr>\n",
       "      <th>Austin TX</th>\n",
       "      <td>1.819582e+06</td>\n",
       "      <td>1.82</td>\n",
       "      <td>$ 1.82 M</td>\n",
       "    </tr>\n",
       "    <tr>\n",
       "      <th>Boston MA</th>\n",
       "      <td>3.661642e+06</td>\n",
       "      <td>3.66</td>\n",
       "      <td>$ 3.66 M</td>\n",
       "    </tr>\n",
       "    <tr>\n",
       "      <th>Dallas TX</th>\n",
       "      <td>2.767975e+06</td>\n",
       "      <td>2.77</td>\n",
       "      <td>$ 2.77 M</td>\n",
       "    </tr>\n",
       "    <tr>\n",
       "      <th>Los Angeles CA</th>\n",
       "      <td>5.452571e+06</td>\n",
       "      <td>5.45</td>\n",
       "      <td>$ 5.45 M</td>\n",
       "    </tr>\n",
       "    <tr>\n",
       "      <th>New York City NY</th>\n",
       "      <td>4.664317e+06</td>\n",
       "      <td>4.66</td>\n",
       "      <td>$ 4.66 M</td>\n",
       "    </tr>\n",
       "    <tr>\n",
       "      <th>Portland ME</th>\n",
       "      <td>4.497583e+05</td>\n",
       "      <td>0.45</td>\n",
       "      <td>$ 0.45 M</td>\n",
       "    </tr>\n",
       "    <tr>\n",
       "      <th>Portland OR</th>\n",
       "      <td>1.870732e+06</td>\n",
       "      <td>1.87</td>\n",
       "      <td>$ 1.87 M</td>\n",
       "    </tr>\n",
       "    <tr>\n",
       "      <th>San Francisco CA</th>\n",
       "      <td>8.262204e+06</td>\n",
       "      <td>8.26</td>\n",
       "      <td>$ 8.26 M</td>\n",
       "    </tr>\n",
       "  </tbody>\n",
       "</table>\n",
       "</div>"
      ],
      "text/plain": [
       "                   Order Total  Total Rounded $ (millions)\n",
       "City                                                      \n",
       "Atlanta GA        2.795499e+06           2.80      $ 2.8 M\n",
       "Austin TX         1.819582e+06           1.82     $ 1.82 M\n",
       "Boston MA         3.661642e+06           3.66     $ 3.66 M\n",
       "Dallas TX         2.767975e+06           2.77     $ 2.77 M\n",
       "Los Angeles CA    5.452571e+06           5.45     $ 5.45 M\n",
       "New York City NY  4.664317e+06           4.66     $ 4.66 M\n",
       "Portland ME       4.497583e+05           0.45     $ 0.45 M\n",
       "Portland OR       1.870732e+06           1.87     $ 1.87 M\n",
       "San Francisco CA  8.262204e+06           8.26     $ 8.26 M"
      ]
     },
     "execution_count": 12,
     "metadata": {},
     "output_type": "execute_result"
    }
   ],
   "source": [
    "city_sales = sales.groupby('City').sum()\n",
    "city_sales = city_sales.drop(['Quantity Ordered', 'Price Each', 'Month'], axis=1)\n",
    "city_sales['Total Rounded'] = round(city_sales['Order Total']/1000000, 2)\n",
    "city_sales['$ (millions)'] = '$ ' + (city_sales['Order Total']/1000000).round(2).astype(str) + ' M'\n",
    "\n",
    "city_sales.head(9)"
   ]
  },
  {
   "cell_type": "code",
   "execution_count": 13,
   "metadata": {},
   "outputs": [
    {
     "data": {
      "image/png": "[encoded data removed]",
      "text/plain": [
       "<Figure size 432x288 with 1 Axes>"
      ]
     },
     "metadata": {
      "needs_background": "light"
     },
     "output_type": "display_data"
    }
   ],
   "source": [
    "cities = sorted(sales['City'].unique())\n",
    "\n",
    "plt.bar(cities, city_sales['Total Rounded'])\n",
    "plt.xticks(cities, rotation='vertical', size=8)\n",
    "plt.ylabel('Sales $ (millions)')\n",
    "plt.show()"
   ]
  },
  {
   "cell_type": "markdown",
   "metadata": {},
   "source": [
    "#### Task 9: Convert 'Order Date' to datetime objects"
   ]
  },
  {
   "cell_type": "code",
   "execution_count": 14,
   "metadata": {},
   "outputs": [],
   "source": [
    "sales['Order Date'] = pd.to_datetime(sales['Order Date'])"
   ]
  },
  {
   "cell_type": "markdown",
   "metadata": {},
   "source": [
    "#### Task 10: Add Hour and Minute columns"
   ]
  },
  {
   "cell_type": "code",
   "execution_count": null,
   "metadata": {},
   "outputs": [],
   "source": []
  },
  {
   "cell_type": "markdown",
   "metadata": {},
   "source": [
    "### Question 3: What time should we display advertisements to maximize likelihood of customer's buying product?"
   ]
  },
  {
   "cell_type": "code",
   "execution_count": null,
   "metadata": {},
   "outputs": [],
   "source": []
  },
  {
   "cell_type": "code",
   "execution_count": null,
   "metadata": {},
   "outputs": [],
   "source": []
  }
 ],
 "metadata": {
  "kernelspec": {
   "display_name": "Python 3",
   "language": "python",
   "name": "python3"
  },
  "language_info": {
   "codemirror_mode": {
    "name": "ipython",
    "version": 3
   },
   "file_extension": ".py",
   "mimetype": "text/x-python",
   "name": "python",
   "nbconvert_exporter": "python",
   "pygments_lexer": "ipython3",
   "version": "3.8.5"
  }
 },
 "nbformat": 4,
 "nbformat_minor": 2
}
