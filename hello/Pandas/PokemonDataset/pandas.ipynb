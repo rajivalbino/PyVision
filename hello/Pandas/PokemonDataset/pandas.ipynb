{
 "metadata": {
  "language_info": {
   "codemirror_mode": {
    "name": "ipython",
    "version": 3
   },
   "file_extension": ".py",
   "mimetype": "text/x-python",
   "name": "python",
   "nbconvert_exporter": "python",
   "pygments_lexer": "ipython3",
   "version": "3.8.5-final"
  },
  "orig_nbformat": 2,
  "kernelspec": {
   "name": "python_defaultSpec_1600728535251",
   "display_name": "Python 3.8.5 32-bit"
  }
 },
 "nbformat": 4,
 "nbformat_minor": 2,
 "cells": [
  {
   "cell_type": "code",
   "execution_count": 8,
   "metadata": {},
   "outputs": [
    {
     "output_type": "execute_result",
     "data": {
      "text/plain": "   #                   Name Type 1  ... Speed  Generation  Legendary\n0  1              Bulbasaur  Grass  ...    45           1      False\n1  2                Ivysaur  Grass  ...    60           1      False\n2  3               Venusaur  Grass  ...    80           1      False\n3  3  VenusaurMega Venusaur  Grass  ...    80           1      False\n4  4             Charmander   Fire  ...    65           1      False\n\n[5 rows x 12 columns]",
      "text/html": "<div>\n<style scoped>\n    .dataframe tbody tr th:only-of-type {\n        vertical-align: middle;\n    }\n\n    .dataframe tbody tr th {\n        vertical-align: top;\n    }\n\n    .dataframe thead th {\n        text-align: right;\n    }\n</style>\n<table border=\"1\" class=\"dataframe\">\n  <thead>\n    <tr style=\"text-align: right;\">\n      <th></th>\n      <th>#</th>\n      <th>Name</th>\n      <th>Type 1</th>\n      <th>Type 2</th>\n      <th>HP</th>\n      <th>Attack</th>\n      <th>Defense</th>\n      <th>Sp. Atk</th>\n      <th>Sp. Def</th>\n      <th>Speed</th>\n      <th>Generation</th>\n      <th>Legendary</th>\n    </tr>\n  </thead>\n  <tbody>\n    <tr>\n      <th>0</th>\n      <td>1</td>\n      <td>Bulbasaur</td>\n      <td>Grass</td>\n      <td>Poison</td>\n      <td>45</td>\n      <td>49</td>\n      <td>49</td>\n      <td>65</td>\n      <td>65</td>\n      <td>45</td>\n      <td>1</td>\n      <td>False</td>\n    </tr>\n    <tr>\n      <th>1</th>\n      <td>2</td>\n      <td>Ivysaur</td>\n      <td>Grass</td>\n      <td>Poison</td>\n      <td>60</td>\n      <td>62</td>\n      <td>63</td>\n      <td>80</td>\n      <td>80</td>\n      <td>60</td>\n      <td>1</td>\n      <td>False</td>\n    </tr>\n    <tr>\n      <th>2</th>\n      <td>3</td>\n      <td>Venusaur</td>\n      <td>Grass</td>\n      <td>Poison</td>\n      <td>80</td>\n      <td>82</td>\n      <td>83</td>\n      <td>100</td>\n      <td>100</td>\n      <td>80</td>\n      <td>1</td>\n      <td>False</td>\n    </tr>\n    <tr>\n      <th>3</th>\n      <td>3</td>\n      <td>VenusaurMega Venusaur</td>\n      <td>Grass</td>\n      <td>Poison</td>\n      <td>80</td>\n      <td>100</td>\n      <td>123</td>\n      <td>122</td>\n      <td>120</td>\n      <td>80</td>\n      <td>1</td>\n      <td>False</td>\n    </tr>\n    <tr>\n      <th>4</th>\n      <td>4</td>\n      <td>Charmander</td>\n      <td>Fire</td>\n      <td>NaN</td>\n      <td>39</td>\n      <td>52</td>\n      <td>43</td>\n      <td>60</td>\n      <td>50</td>\n      <td>65</td>\n      <td>1</td>\n      <td>False</td>\n    </tr>\n  </tbody>\n</table>\n</div>"
     },
     "metadata": {},
     "execution_count": 8
    }
   ],
   "source": [
    "import pandas as pd\n",
    "\n",
    "df = pd.read_csv('pokemon_data.csv')\n",
    "#dataframe = pd.read_excel('pokemon_data.xlsx')\n",
    "#dataframe = pd.read_csv('pokemon_data.txt, delimiter='\\t')\n",
    "df.head()"
   ]
  },
  {
   "cell_type": "code",
   "execution_count": 22,
   "metadata": {
    "tags": []
   },
   "outputs": [
    {
     "output_type": "execute_result",
     "data": {
      "text/plain": "       #                   Name  Type 1  ... Speed  Generation  Legendary\n0      1              Bulbasaur   Grass  ...    45           1      False\n1      2                Ivysaur   Grass  ...    60           1      False\n2      3               Venusaur   Grass  ...    80           1      False\n3      3  VenusaurMega Venusaur   Grass  ...    80           1      False\n16    13                 Weedle     Bug  ...    50           1      False\n..   ...                    ...     ...  ...   ...         ...        ...\n630  569               Garbodor  Poison  ...    75           5      False\n651  590                Foongus   Grass  ...    15           5      False\n652  591              Amoonguss   Grass  ...    30           5      False\n760  690                 Skrelp  Poison  ...    30           6      False\n761  691               Dragalge  Poison  ...    44           6      False\n\n[62 rows x 12 columns]",
      "text/html": "<div>\n<style scoped>\n    .dataframe tbody tr th:only-of-type {\n        vertical-align: middle;\n    }\n\n    .dataframe tbody tr th {\n        vertical-align: top;\n    }\n\n    .dataframe thead th {\n        text-align: right;\n    }\n</style>\n<table border=\"1\" class=\"dataframe\">\n  <thead>\n    <tr style=\"text-align: right;\">\n      <th></th>\n      <th>#</th>\n      <th>Name</th>\n      <th>Type 1</th>\n      <th>Type 2</th>\n      <th>HP</th>\n      <th>Attack</th>\n      <th>Defense</th>\n      <th>Sp. Atk</th>\n      <th>Sp. Def</th>\n      <th>Speed</th>\n      <th>Generation</th>\n      <th>Legendary</th>\n    </tr>\n  </thead>\n  <tbody>\n    <tr>\n      <th>0</th>\n      <td>1</td>\n      <td>Bulbasaur</td>\n      <td>Grass</td>\n      <td>Poison</td>\n      <td>45</td>\n      <td>49</td>\n      <td>49</td>\n      <td>65</td>\n      <td>65</td>\n      <td>45</td>\n      <td>1</td>\n      <td>False</td>\n    </tr>\n    <tr>\n      <th>1</th>\n      <td>2</td>\n      <td>Ivysaur</td>\n      <td>Grass</td>\n      <td>Poison</td>\n      <td>60</td>\n      <td>62</td>\n      <td>63</td>\n      <td>80</td>\n      <td>80</td>\n      <td>60</td>\n      <td>1</td>\n      <td>False</td>\n    </tr>\n    <tr>\n      <th>2</th>\n      <td>3</td>\n      <td>Venusaur</td>\n      <td>Grass</td>\n      <td>Poison</td>\n      <td>80</td>\n      <td>82</td>\n      <td>83</td>\n      <td>100</td>\n      <td>100</td>\n      <td>80</td>\n      <td>1</td>\n      <td>False</td>\n    </tr>\n    <tr>\n      <th>3</th>\n      <td>3</td>\n      <td>VenusaurMega Venusaur</td>\n      <td>Grass</td>\n      <td>Poison</td>\n      <td>80</td>\n      <td>100</td>\n      <td>123</td>\n      <td>122</td>\n      <td>120</td>\n      <td>80</td>\n      <td>1</td>\n      <td>False</td>\n    </tr>\n    <tr>\n      <th>16</th>\n      <td>13</td>\n      <td>Weedle</td>\n      <td>Bug</td>\n      <td>Poison</td>\n      <td>40</td>\n      <td>35</td>\n      <td>30</td>\n      <td>20</td>\n      <td>20</td>\n      <td>50</td>\n      <td>1</td>\n      <td>False</td>\n    </tr>\n    <tr>\n      <th>...</th>\n      <td>...</td>\n      <td>...</td>\n      <td>...</td>\n      <td>...</td>\n      <td>...</td>\n      <td>...</td>\n      <td>...</td>\n      <td>...</td>\n      <td>...</td>\n      <td>...</td>\n      <td>...</td>\n      <td>...</td>\n    </tr>\n    <tr>\n      <th>630</th>\n      <td>569</td>\n      <td>Garbodor</td>\n      <td>Poison</td>\n      <td>NaN</td>\n      <td>80</td>\n      <td>95</td>\n      <td>82</td>\n      <td>60</td>\n      <td>82</td>\n      <td>75</td>\n      <td>5</td>\n      <td>False</td>\n    </tr>\n    <tr>\n      <th>651</th>\n      <td>590</td>\n      <td>Foongus</td>\n      <td>Grass</td>\n      <td>Poison</td>\n      <td>69</td>\n      <td>55</td>\n      <td>45</td>\n      <td>55</td>\n      <td>55</td>\n      <td>15</td>\n      <td>5</td>\n      <td>False</td>\n    </tr>\n    <tr>\n      <th>652</th>\n      <td>591</td>\n      <td>Amoonguss</td>\n      <td>Grass</td>\n      <td>Poison</td>\n      <td>114</td>\n      <td>85</td>\n      <td>70</td>\n      <td>85</td>\n      <td>80</td>\n      <td>30</td>\n      <td>5</td>\n      <td>False</td>\n    </tr>\n    <tr>\n      <th>760</th>\n      <td>690</td>\n      <td>Skrelp</td>\n      <td>Poison</td>\n      <td>Water</td>\n      <td>50</td>\n      <td>60</td>\n      <td>60</td>\n      <td>60</td>\n      <td>60</td>\n      <td>30</td>\n      <td>6</td>\n      <td>False</td>\n    </tr>\n    <tr>\n      <th>761</th>\n      <td>691</td>\n      <td>Dragalge</td>\n      <td>Poison</td>\n      <td>Dragon</td>\n      <td>65</td>\n      <td>75</td>\n      <td>90</td>\n      <td>97</td>\n      <td>123</td>\n      <td>44</td>\n      <td>6</td>\n      <td>False</td>\n    </tr>\n  </tbody>\n</table>\n<p>62 rows × 12 columns</p>\n</div>"
     },
     "metadata": {},
     "execution_count": 22
    }
   ],
   "source": [
    "#### Read Headers\n",
    "df.columns\n",
    "\n",
    "## Read each Column\n",
    "df[['Name', 'Type 1', 'Type 2', 'Generation']]\n",
    "\n",
    "## Read Each Row\n",
    "#df.iloc[1:4]\n",
    "#for idx,row in df.iterrows():\n",
    "#    print(idx, row['Name'])\n",
    "df.loc[(df['Type 1'] == 'Poison') | (df['Type 2'] == 'Poison')]\n",
    "\n",
    "## Read a specific location (R,C)\n",
    "#df.iloc[2,1]\n"
   ]
  },
  {
   "cell_type": "code",
   "execution_count": 23,
   "metadata": {},
   "outputs": [
    {
     "output_type": "execute_result",
     "data": {
      "text/plain": "                #          HP      Attack  ...     Sp. Def       Speed  Generation\ncount  800.000000  800.000000  800.000000  ...  800.000000  800.000000   800.00000\nmean   362.813750   69.258750   79.001250  ...   71.902500   68.277500     3.32375\nstd    208.343798   25.534669   32.457366  ...   27.828916   29.060474     1.66129\nmin      1.000000    1.000000    5.000000  ...   20.000000    5.000000     1.00000\n25%    184.750000   50.000000   55.000000  ...   50.000000   45.000000     2.00000\n50%    364.500000   65.000000   75.000000  ...   70.000000   65.000000     3.00000\n75%    539.250000   80.000000  100.000000  ...   90.000000   90.000000     5.00000\nmax    721.000000  255.000000  190.000000  ...  230.000000  180.000000     6.00000\n\n[8 rows x 8 columns]",
      "text/html": "<div>\n<style scoped>\n    .dataframe tbody tr th:only-of-type {\n        vertical-align: middle;\n    }\n\n    .dataframe tbody tr th {\n        vertical-align: top;\n    }\n\n    .dataframe thead th {\n        text-align: right;\n    }\n</style>\n<table border=\"1\" class=\"dataframe\">\n  <thead>\n    <tr style=\"text-align: right;\">\n      <th></th>\n      <th>#</th>\n      <th>HP</th>\n      <th>Attack</th>\n      <th>Defense</th>\n      <th>Sp. Atk</th>\n      <th>Sp. Def</th>\n      <th>Speed</th>\n      <th>Generation</th>\n    </tr>\n  </thead>\n  <tbody>\n    <tr>\n      <th>count</th>\n      <td>800.000000</td>\n      <td>800.000000</td>\n      <td>800.000000</td>\n      <td>800.000000</td>\n      <td>800.000000</td>\n      <td>800.000000</td>\n      <td>800.000000</td>\n      <td>800.00000</td>\n    </tr>\n    <tr>\n      <th>mean</th>\n      <td>362.813750</td>\n      <td>69.258750</td>\n      <td>79.001250</td>\n      <td>73.842500</td>\n      <td>72.820000</td>\n      <td>71.902500</td>\n      <td>68.277500</td>\n      <td>3.32375</td>\n    </tr>\n    <tr>\n      <th>std</th>\n      <td>208.343798</td>\n      <td>25.534669</td>\n      <td>32.457366</td>\n      <td>31.183501</td>\n      <td>32.722294</td>\n      <td>27.828916</td>\n      <td>29.060474</td>\n      <td>1.66129</td>\n    </tr>\n    <tr>\n      <th>min</th>\n      <td>1.000000</td>\n      <td>1.000000</td>\n      <td>5.000000</td>\n      <td>5.000000</td>\n      <td>10.000000</td>\n      <td>20.000000</td>\n      <td>5.000000</td>\n      <td>1.00000</td>\n    </tr>\n    <tr>\n      <th>25%</th>\n      <td>184.750000</td>\n      <td>50.000000</td>\n      <td>55.000000</td>\n      <td>50.000000</td>\n      <td>49.750000</td>\n      <td>50.000000</td>\n      <td>45.000000</td>\n      <td>2.00000</td>\n    </tr>\n    <tr>\n      <th>50%</th>\n      <td>364.500000</td>\n      <td>65.000000</td>\n      <td>75.000000</td>\n      <td>70.000000</td>\n      <td>65.000000</td>\n      <td>70.000000</td>\n      <td>65.000000</td>\n      <td>3.00000</td>\n    </tr>\n    <tr>\n      <th>75%</th>\n      <td>539.250000</td>\n      <td>80.000000</td>\n      <td>100.000000</td>\n      <td>90.000000</td>\n      <td>95.000000</td>\n      <td>90.000000</td>\n      <td>90.000000</td>\n      <td>5.00000</td>\n    </tr>\n    <tr>\n      <th>max</th>\n      <td>721.000000</td>\n      <td>255.000000</td>\n      <td>190.000000</td>\n      <td>230.000000</td>\n      <td>194.000000</td>\n      <td>230.000000</td>\n      <td>180.000000</td>\n      <td>6.00000</td>\n    </tr>\n  </tbody>\n</table>\n</div>"
     },
     "metadata": {},
     "execution_count": 23
    }
   ],
   "source": [
    "df.describe()"
   ]
  },
  {
   "cell_type": "code",
   "execution_count": 26,
   "metadata": {},
   "outputs": [
    {
     "output_type": "execute_result",
     "data": {
      "text/plain": "       #       Name   Type 1 Type 2  ...  Sp. Def  Speed  Generation  Legendary\n261  242    Blissey   Normal    NaN  ...      135     55           2      False\n121  113    Chansey   Normal    NaN  ...      105     50           1      False\n217  202  Wobbuffet  Psychic    NaN  ...       58     33           2      False\n351  321    Wailord    Water    NaN  ...       45     60           3      False\n655  594  Alomomola    Water    NaN  ...       45     65           5      False\n..   ...        ...      ...    ...  ...      ...    ...         ...        ...\n487  439   Mime Jr.  Psychic  Fairy  ...       90     60           4      False\n139  129   Magikarp    Water    NaN  ...       20     80           1      False\n381  349     Feebas    Water    NaN  ...       55     80           3      False\n55    50    Diglett   Ground    NaN  ...       45     95           1      False\n316  292   Shedinja      Bug  Ghost  ...       30     40           3      False\n\n[800 rows x 12 columns]",
      "text/html": "<div>\n<style scoped>\n    .dataframe tbody tr th:only-of-type {\n        vertical-align: middle;\n    }\n\n    .dataframe tbody tr th {\n        vertical-align: top;\n    }\n\n    .dataframe thead th {\n        text-align: right;\n    }\n</style>\n<table border=\"1\" class=\"dataframe\">\n  <thead>\n    <tr style=\"text-align: right;\">\n      <th></th>\n      <th>#</th>\n      <th>Name</th>\n      <th>Type 1</th>\n      <th>Type 2</th>\n      <th>HP</th>\n      <th>Attack</th>\n      <th>Defense</th>\n      <th>Sp. Atk</th>\n      <th>Sp. Def</th>\n      <th>Speed</th>\n      <th>Generation</th>\n      <th>Legendary</th>\n    </tr>\n  </thead>\n  <tbody>\n    <tr>\n      <th>261</th>\n      <td>242</td>\n      <td>Blissey</td>\n      <td>Normal</td>\n      <td>NaN</td>\n      <td>255</td>\n      <td>10</td>\n      <td>10</td>\n      <td>75</td>\n      <td>135</td>\n      <td>55</td>\n      <td>2</td>\n      <td>False</td>\n    </tr>\n    <tr>\n      <th>121</th>\n      <td>113</td>\n      <td>Chansey</td>\n      <td>Normal</td>\n      <td>NaN</td>\n      <td>250</td>\n      <td>5</td>\n      <td>5</td>\n      <td>35</td>\n      <td>105</td>\n      <td>50</td>\n      <td>1</td>\n      <td>False</td>\n    </tr>\n    <tr>\n      <th>217</th>\n      <td>202</td>\n      <td>Wobbuffet</td>\n      <td>Psychic</td>\n      <td>NaN</td>\n      <td>190</td>\n      <td>33</td>\n      <td>58</td>\n      <td>33</td>\n      <td>58</td>\n      <td>33</td>\n      <td>2</td>\n      <td>False</td>\n    </tr>\n    <tr>\n      <th>351</th>\n      <td>321</td>\n      <td>Wailord</td>\n      <td>Water</td>\n      <td>NaN</td>\n      <td>170</td>\n      <td>90</td>\n      <td>45</td>\n      <td>90</td>\n      <td>45</td>\n      <td>60</td>\n      <td>3</td>\n      <td>False</td>\n    </tr>\n    <tr>\n      <th>655</th>\n      <td>594</td>\n      <td>Alomomola</td>\n      <td>Water</td>\n      <td>NaN</td>\n      <td>165</td>\n      <td>75</td>\n      <td>80</td>\n      <td>40</td>\n      <td>45</td>\n      <td>65</td>\n      <td>5</td>\n      <td>False</td>\n    </tr>\n    <tr>\n      <th>...</th>\n      <td>...</td>\n      <td>...</td>\n      <td>...</td>\n      <td>...</td>\n      <td>...</td>\n      <td>...</td>\n      <td>...</td>\n      <td>...</td>\n      <td>...</td>\n      <td>...</td>\n      <td>...</td>\n      <td>...</td>\n    </tr>\n    <tr>\n      <th>487</th>\n      <td>439</td>\n      <td>Mime Jr.</td>\n      <td>Psychic</td>\n      <td>Fairy</td>\n      <td>20</td>\n      <td>25</td>\n      <td>45</td>\n      <td>70</td>\n      <td>90</td>\n      <td>60</td>\n      <td>4</td>\n      <td>False</td>\n    </tr>\n    <tr>\n      <th>139</th>\n      <td>129</td>\n      <td>Magikarp</td>\n      <td>Water</td>\n      <td>NaN</td>\n      <td>20</td>\n      <td>10</td>\n      <td>55</td>\n      <td>15</td>\n      <td>20</td>\n      <td>80</td>\n      <td>1</td>\n      <td>False</td>\n    </tr>\n    <tr>\n      <th>381</th>\n      <td>349</td>\n      <td>Feebas</td>\n      <td>Water</td>\n      <td>NaN</td>\n      <td>20</td>\n      <td>15</td>\n      <td>20</td>\n      <td>10</td>\n      <td>55</td>\n      <td>80</td>\n      <td>3</td>\n      <td>False</td>\n    </tr>\n    <tr>\n      <th>55</th>\n      <td>50</td>\n      <td>Diglett</td>\n      <td>Ground</td>\n      <td>NaN</td>\n      <td>10</td>\n      <td>55</td>\n      <td>25</td>\n      <td>35</td>\n      <td>45</td>\n      <td>95</td>\n      <td>1</td>\n      <td>False</td>\n    </tr>\n    <tr>\n      <th>316</th>\n      <td>292</td>\n      <td>Shedinja</td>\n      <td>Bug</td>\n      <td>Ghost</td>\n      <td>1</td>\n      <td>90</td>\n      <td>45</td>\n      <td>30</td>\n      <td>30</td>\n      <td>40</td>\n      <td>3</td>\n      <td>False</td>\n    </tr>\n  </tbody>\n</table>\n<p>800 rows × 12 columns</p>\n</div>"
     },
     "metadata": {},
     "execution_count": 26
    }
   ],
   "source": [
    "df.sort_values(['HP', 'Type 1'], ascending=[False, True])"
   ]
  },
  {
   "cell_type": "code",
   "execution_count": null,
   "metadata": {},
   "outputs": [],
   "source": []
  }
 ]
}